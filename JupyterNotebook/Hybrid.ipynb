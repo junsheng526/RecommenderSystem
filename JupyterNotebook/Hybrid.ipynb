{
 "cells": [
  {
   "cell_type": "code",
   "execution_count": 38,
   "id": "b568611c",
   "metadata": {
    "id": "b568611c"
   },
   "outputs": [],
   "source": [
    "#import libraries\n",
    "import pandas as pd\n",
    "import matplotlib.pyplot as plt\n",
    "import seaborn as sns\n",
    "import surprise\n",
    "# Data Modeling\n",
    "from sklearn.linear_model import LinearRegression\n",
    "from sklearn.linear_model import LogisticRegression\n",
    "from sklearn.ensemble import RandomForestRegressor\n",
    "from sklearn.ensemble import RandomForestClassifier\n",
    "from surprise import Reader,Dataset\n",
    "# Model Evaluation and Comparison\n",
    "from sklearn.metrics import accuracy_score\n",
    "from sklearn.metrics import r2_score, mean_squared_error\n",
    "from sklearn.model_selection import cross_val_score\n",
    "from sklearn.model_selection import train_test_split\n",
    "from sklearn.metrics.pairwise import cosine_similarity\n"
   ]
  },
  {
   "cell_type": "code",
   "execution_count": 2,
   "id": "bacef166",
   "metadata": {
    "colab": {
     "base_uri": "https://localhost:8080/",
     "height": 568
    },
    "id": "bacef166",
    "outputId": "8d98417d-61f5-48c1-e449-405b6c0fa2db"
   },
   "outputs": [
    {
     "data": {
      "text/html": [
       "<div>\n",
       "<style scoped>\n",
       "    .dataframe tbody tr th:only-of-type {\n",
       "        vertical-align: middle;\n",
       "    }\n",
       "\n",
       "    .dataframe tbody tr th {\n",
       "        vertical-align: top;\n",
       "    }\n",
       "\n",
       "    .dataframe thead th {\n",
       "        text-align: right;\n",
       "    }\n",
       "</style>\n",
       "<table border=\"1\" class=\"dataframe\">\n",
       "  <thead>\n",
       "    <tr style=\"text-align: right;\">\n",
       "      <th></th>\n",
       "      <th>Unnamed: 0</th>\n",
       "      <th>id</th>\n",
       "      <th>imdb_id</th>\n",
       "      <th>popularity</th>\n",
       "      <th>budget</th>\n",
       "      <th>revenue</th>\n",
       "      <th>original_title</th>\n",
       "      <th>cast</th>\n",
       "      <th>homepage</th>\n",
       "      <th>director</th>\n",
       "      <th>...</th>\n",
       "      <th>genres</th>\n",
       "      <th>production_companies</th>\n",
       "      <th>release_date</th>\n",
       "      <th>vote_count</th>\n",
       "      <th>vote_average</th>\n",
       "      <th>release_year</th>\n",
       "      <th>budget_adj</th>\n",
       "      <th>revenue_adj</th>\n",
       "      <th>profit</th>\n",
       "      <th>popularity_level</th>\n",
       "    </tr>\n",
       "  </thead>\n",
       "  <tbody>\n",
       "    <tr>\n",
       "      <th>0</th>\n",
       "      <td>0</td>\n",
       "      <td>135397</td>\n",
       "      <td>tt0369610</td>\n",
       "      <td>32.985763</td>\n",
       "      <td>150000000.0</td>\n",
       "      <td>1.513529e+09</td>\n",
       "      <td>Jurassic World</td>\n",
       "      <td>Chris Pratt|Bryce Dallas Howard|Irrfan Khan|Vi...</td>\n",
       "      <td>http://www.jurassicworld.com/</td>\n",
       "      <td>Colin Trevorrow</td>\n",
       "      <td>...</td>\n",
       "      <td>Action|Adventure|Science Fiction|Thriller</td>\n",
       "      <td>Universal Studios|Amblin Entertainment|Legenda...</td>\n",
       "      <td>2015-06-09</td>\n",
       "      <td>5562</td>\n",
       "      <td>6.5</td>\n",
       "      <td>2015</td>\n",
       "      <td>1.379999e+08</td>\n",
       "      <td>1.392446e+09</td>\n",
       "      <td>1.363529e+09</td>\n",
       "      <td>High</td>\n",
       "    </tr>\n",
       "    <tr>\n",
       "      <th>1</th>\n",
       "      <td>1</td>\n",
       "      <td>76341</td>\n",
       "      <td>tt1392190</td>\n",
       "      <td>28.419936</td>\n",
       "      <td>150000000.0</td>\n",
       "      <td>3.784364e+08</td>\n",
       "      <td>Mad Max: Fury Road</td>\n",
       "      <td>Tom Hardy|Charlize Theron|Hugh Keays-Byrne|Nic...</td>\n",
       "      <td>http://www.madmaxmovie.com/</td>\n",
       "      <td>George Miller</td>\n",
       "      <td>...</td>\n",
       "      <td>Action|Adventure|Science Fiction|Thriller</td>\n",
       "      <td>Village Roadshow Pictures|Kennedy Miller Produ...</td>\n",
       "      <td>2015-05-13</td>\n",
       "      <td>6185</td>\n",
       "      <td>7.1</td>\n",
       "      <td>2015</td>\n",
       "      <td>1.379999e+08</td>\n",
       "      <td>3.481613e+08</td>\n",
       "      <td>2.284364e+08</td>\n",
       "      <td>High</td>\n",
       "    </tr>\n",
       "    <tr>\n",
       "      <th>2</th>\n",
       "      <td>2</td>\n",
       "      <td>262500</td>\n",
       "      <td>tt2908446</td>\n",
       "      <td>13.112507</td>\n",
       "      <td>110000000.0</td>\n",
       "      <td>2.952382e+08</td>\n",
       "      <td>Insurgent</td>\n",
       "      <td>Shailene Woodley|Theo James|Kate Winslet|Ansel...</td>\n",
       "      <td>http://www.thedivergentseries.movie/#insurgent</td>\n",
       "      <td>Robert Schwentke</td>\n",
       "      <td>...</td>\n",
       "      <td>Adventure|Science Fiction|Thriller</td>\n",
       "      <td>Summit Entertainment|Mandeville Films|Red Wago...</td>\n",
       "      <td>2015-03-18</td>\n",
       "      <td>2480</td>\n",
       "      <td>6.3</td>\n",
       "      <td>2015</td>\n",
       "      <td>1.012000e+08</td>\n",
       "      <td>2.716190e+08</td>\n",
       "      <td>1.852382e+08</td>\n",
       "      <td>High</td>\n",
       "    </tr>\n",
       "    <tr>\n",
       "      <th>3</th>\n",
       "      <td>3</td>\n",
       "      <td>140607</td>\n",
       "      <td>tt2488496</td>\n",
       "      <td>11.173104</td>\n",
       "      <td>200000000.0</td>\n",
       "      <td>2.068178e+09</td>\n",
       "      <td>Star Wars: The Force Awakens</td>\n",
       "      <td>Harrison Ford|Mark Hamill|Carrie Fisher|Adam D...</td>\n",
       "      <td>http://www.starwars.com/films/star-wars-episod...</td>\n",
       "      <td>J.J. Abrams</td>\n",
       "      <td>...</td>\n",
       "      <td>Action|Adventure|Science Fiction|Fantasy</td>\n",
       "      <td>Lucasfilm|Truenorth Productions|Bad Robot</td>\n",
       "      <td>2015-12-15</td>\n",
       "      <td>5292</td>\n",
       "      <td>7.5</td>\n",
       "      <td>2015</td>\n",
       "      <td>1.839999e+08</td>\n",
       "      <td>1.902723e+09</td>\n",
       "      <td>1.868178e+09</td>\n",
       "      <td>High</td>\n",
       "    </tr>\n",
       "    <tr>\n",
       "      <th>4</th>\n",
       "      <td>4</td>\n",
       "      <td>168259</td>\n",
       "      <td>tt2820852</td>\n",
       "      <td>9.335014</td>\n",
       "      <td>190000000.0</td>\n",
       "      <td>1.506249e+09</td>\n",
       "      <td>Furious 7</td>\n",
       "      <td>Vin Diesel|Paul Walker|Jason Statham|Michelle ...</td>\n",
       "      <td>http://www.furious7.com/</td>\n",
       "      <td>James Wan</td>\n",
       "      <td>...</td>\n",
       "      <td>Action|Crime|Thriller</td>\n",
       "      <td>Universal Pictures|Original Film|Media Rights ...</td>\n",
       "      <td>2015-04-01</td>\n",
       "      <td>2947</td>\n",
       "      <td>7.3</td>\n",
       "      <td>2015</td>\n",
       "      <td>1.747999e+08</td>\n",
       "      <td>1.385749e+09</td>\n",
       "      <td>1.316249e+09</td>\n",
       "      <td>High</td>\n",
       "    </tr>\n",
       "  </tbody>\n",
       "</table>\n",
       "<p>5 rows × 24 columns</p>\n",
       "</div>"
      ],
      "text/plain": [
       "   Unnamed: 0      id    imdb_id  popularity       budget       revenue  \\\n",
       "0           0  135397  tt0369610   32.985763  150000000.0  1.513529e+09   \n",
       "1           1   76341  tt1392190   28.419936  150000000.0  3.784364e+08   \n",
       "2           2  262500  tt2908446   13.112507  110000000.0  2.952382e+08   \n",
       "3           3  140607  tt2488496   11.173104  200000000.0  2.068178e+09   \n",
       "4           4  168259  tt2820852    9.335014  190000000.0  1.506249e+09   \n",
       "\n",
       "                 original_title  \\\n",
       "0                Jurassic World   \n",
       "1            Mad Max: Fury Road   \n",
       "2                     Insurgent   \n",
       "3  Star Wars: The Force Awakens   \n",
       "4                     Furious 7   \n",
       "\n",
       "                                                cast  \\\n",
       "0  Chris Pratt|Bryce Dallas Howard|Irrfan Khan|Vi...   \n",
       "1  Tom Hardy|Charlize Theron|Hugh Keays-Byrne|Nic...   \n",
       "2  Shailene Woodley|Theo James|Kate Winslet|Ansel...   \n",
       "3  Harrison Ford|Mark Hamill|Carrie Fisher|Adam D...   \n",
       "4  Vin Diesel|Paul Walker|Jason Statham|Michelle ...   \n",
       "\n",
       "                                            homepage          director  ...  \\\n",
       "0                      http://www.jurassicworld.com/   Colin Trevorrow  ...   \n",
       "1                        http://www.madmaxmovie.com/     George Miller  ...   \n",
       "2     http://www.thedivergentseries.movie/#insurgent  Robert Schwentke  ...   \n",
       "3  http://www.starwars.com/films/star-wars-episod...       J.J. Abrams  ...   \n",
       "4                           http://www.furious7.com/         James Wan  ...   \n",
       "\n",
       "                                      genres  \\\n",
       "0  Action|Adventure|Science Fiction|Thriller   \n",
       "1  Action|Adventure|Science Fiction|Thriller   \n",
       "2         Adventure|Science Fiction|Thriller   \n",
       "3   Action|Adventure|Science Fiction|Fantasy   \n",
       "4                      Action|Crime|Thriller   \n",
       "\n",
       "                                production_companies release_date  vote_count  \\\n",
       "0  Universal Studios|Amblin Entertainment|Legenda...   2015-06-09        5562   \n",
       "1  Village Roadshow Pictures|Kennedy Miller Produ...   2015-05-13        6185   \n",
       "2  Summit Entertainment|Mandeville Films|Red Wago...   2015-03-18        2480   \n",
       "3          Lucasfilm|Truenorth Productions|Bad Robot   2015-12-15        5292   \n",
       "4  Universal Pictures|Original Film|Media Rights ...   2015-04-01        2947   \n",
       "\n",
       "  vote_average release_year    budget_adj   revenue_adj        profit  \\\n",
       "0          6.5         2015  1.379999e+08  1.392446e+09  1.363529e+09   \n",
       "1          7.1         2015  1.379999e+08  3.481613e+08  2.284364e+08   \n",
       "2          6.3         2015  1.012000e+08  2.716190e+08  1.852382e+08   \n",
       "3          7.5         2015  1.839999e+08  1.902723e+09  1.868178e+09   \n",
       "4          7.3         2015  1.747999e+08  1.385749e+09  1.316249e+09   \n",
       "\n",
       "   popularity_level  \n",
       "0              High  \n",
       "1              High  \n",
       "2              High  \n",
       "3              High  \n",
       "4              High  \n",
       "\n",
       "[5 rows x 24 columns]"
      ]
     },
     "execution_count": 2,
     "metadata": {},
     "output_type": "execute_result"
    }
   ],
   "source": [
    "#load dataset\n",
    "df = pd.read_csv('TMBD Movie Dataset.csv')\n",
    "\n",
    "df.head()"
   ]
  },
  {
   "cell_type": "code",
   "execution_count": 3,
   "id": "EqXepgbwuetz",
   "metadata": {
    "colab": {
     "base_uri": "https://localhost:8080/",
     "height": 446
    },
    "id": "EqXepgbwuetz",
    "outputId": "252c2b7e-43ca-4486-fffa-00870e0c6556"
   },
   "outputs": [
    {
     "data": {
      "text/html": [
       "<div>\n",
       "<style scoped>\n",
       "    .dataframe tbody tr th:only-of-type {\n",
       "        vertical-align: middle;\n",
       "    }\n",
       "\n",
       "    .dataframe tbody tr th {\n",
       "        vertical-align: top;\n",
       "    }\n",
       "\n",
       "    .dataframe thead th {\n",
       "        text-align: right;\n",
       "    }\n",
       "</style>\n",
       "<table border=\"1\" class=\"dataframe\">\n",
       "  <thead>\n",
       "    <tr style=\"text-align: right;\">\n",
       "      <th></th>\n",
       "      <th>userId</th>\n",
       "      <th>movieId</th>\n",
       "      <th>rating</th>\n",
       "      <th>timestamp</th>\n",
       "      <th>imdbId</th>\n",
       "      <th>tmdbId</th>\n",
       "      <th>Unnamed: 0</th>\n",
       "      <th>id</th>\n",
       "      <th>imdb_id</th>\n",
       "      <th>popularity</th>\n",
       "      <th>...</th>\n",
       "      <th>genres</th>\n",
       "      <th>production_companies</th>\n",
       "      <th>release_date</th>\n",
       "      <th>vote_count</th>\n",
       "      <th>vote_average</th>\n",
       "      <th>release_year</th>\n",
       "      <th>budget_adj</th>\n",
       "      <th>revenue_adj</th>\n",
       "      <th>profit</th>\n",
       "      <th>popularity_level</th>\n",
       "    </tr>\n",
       "  </thead>\n",
       "  <tbody>\n",
       "    <tr>\n",
       "      <th>0</th>\n",
       "      <td>1</td>\n",
       "      <td>1129</td>\n",
       "      <td>2.0</td>\n",
       "      <td>1260759185</td>\n",
       "      <td>82340</td>\n",
       "      <td>1103.0</td>\n",
       "      <td>8384</td>\n",
       "      <td>1103</td>\n",
       "      <td>tt0082340</td>\n",
       "      <td>1.003963</td>\n",
       "      <td>...</td>\n",
       "      <td>Science Fiction|Action</td>\n",
       "      <td>AVCO Embassy Pictures|Goldcrest Films Internat...</td>\n",
       "      <td>1981-05-22</td>\n",
       "      <td>336</td>\n",
       "      <td>6.5</td>\n",
       "      <td>1981</td>\n",
       "      <td>1.438914e+07</td>\n",
       "      <td>1.199095e+08</td>\n",
       "      <td>44000000.0</td>\n",
       "      <td>Medium</td>\n",
       "    </tr>\n",
       "    <tr>\n",
       "      <th>1</th>\n",
       "      <td>7</td>\n",
       "      <td>1129</td>\n",
       "      <td>3.0</td>\n",
       "      <td>851869103</td>\n",
       "      <td>82340</td>\n",
       "      <td>1103.0</td>\n",
       "      <td>8384</td>\n",
       "      <td>1103</td>\n",
       "      <td>tt0082340</td>\n",
       "      <td>1.003963</td>\n",
       "      <td>...</td>\n",
       "      <td>Science Fiction|Action</td>\n",
       "      <td>AVCO Embassy Pictures|Goldcrest Films Internat...</td>\n",
       "      <td>1981-05-22</td>\n",
       "      <td>336</td>\n",
       "      <td>6.5</td>\n",
       "      <td>1981</td>\n",
       "      <td>1.438914e+07</td>\n",
       "      <td>1.199095e+08</td>\n",
       "      <td>44000000.0</td>\n",
       "      <td>Medium</td>\n",
       "    </tr>\n",
       "    <tr>\n",
       "      <th>2</th>\n",
       "      <td>19</td>\n",
       "      <td>1129</td>\n",
       "      <td>3.0</td>\n",
       "      <td>855192347</td>\n",
       "      <td>82340</td>\n",
       "      <td>1103.0</td>\n",
       "      <td>8384</td>\n",
       "      <td>1103</td>\n",
       "      <td>tt0082340</td>\n",
       "      <td>1.003963</td>\n",
       "      <td>...</td>\n",
       "      <td>Science Fiction|Action</td>\n",
       "      <td>AVCO Embassy Pictures|Goldcrest Films Internat...</td>\n",
       "      <td>1981-05-22</td>\n",
       "      <td>336</td>\n",
       "      <td>6.5</td>\n",
       "      <td>1981</td>\n",
       "      <td>1.438914e+07</td>\n",
       "      <td>1.199095e+08</td>\n",
       "      <td>44000000.0</td>\n",
       "      <td>Medium</td>\n",
       "    </tr>\n",
       "    <tr>\n",
       "      <th>3</th>\n",
       "      <td>21</td>\n",
       "      <td>1129</td>\n",
       "      <td>3.0</td>\n",
       "      <td>853848738</td>\n",
       "      <td>82340</td>\n",
       "      <td>1103.0</td>\n",
       "      <td>8384</td>\n",
       "      <td>1103</td>\n",
       "      <td>tt0082340</td>\n",
       "      <td>1.003963</td>\n",
       "      <td>...</td>\n",
       "      <td>Science Fiction|Action</td>\n",
       "      <td>AVCO Embassy Pictures|Goldcrest Films Internat...</td>\n",
       "      <td>1981-05-22</td>\n",
       "      <td>336</td>\n",
       "      <td>6.5</td>\n",
       "      <td>1981</td>\n",
       "      <td>1.438914e+07</td>\n",
       "      <td>1.199095e+08</td>\n",
       "      <td>44000000.0</td>\n",
       "      <td>Medium</td>\n",
       "    </tr>\n",
       "    <tr>\n",
       "      <th>4</th>\n",
       "      <td>30</td>\n",
       "      <td>1129</td>\n",
       "      <td>3.0</td>\n",
       "      <td>945294508</td>\n",
       "      <td>82340</td>\n",
       "      <td>1103.0</td>\n",
       "      <td>8384</td>\n",
       "      <td>1103</td>\n",
       "      <td>tt0082340</td>\n",
       "      <td>1.003963</td>\n",
       "      <td>...</td>\n",
       "      <td>Science Fiction|Action</td>\n",
       "      <td>AVCO Embassy Pictures|Goldcrest Films Internat...</td>\n",
       "      <td>1981-05-22</td>\n",
       "      <td>336</td>\n",
       "      <td>6.5</td>\n",
       "      <td>1981</td>\n",
       "      <td>1.438914e+07</td>\n",
       "      <td>1.199095e+08</td>\n",
       "      <td>44000000.0</td>\n",
       "      <td>Medium</td>\n",
       "    </tr>\n",
       "  </tbody>\n",
       "</table>\n",
       "<p>5 rows × 30 columns</p>\n",
       "</div>"
      ],
      "text/plain": [
       "   userId  movieId  rating   timestamp  imdbId  tmdbId  Unnamed: 0    id  \\\n",
       "0       1     1129     2.0  1260759185   82340  1103.0        8384  1103   \n",
       "1       7     1129     3.0   851869103   82340  1103.0        8384  1103   \n",
       "2      19     1129     3.0   855192347   82340  1103.0        8384  1103   \n",
       "3      21     1129     3.0   853848738   82340  1103.0        8384  1103   \n",
       "4      30     1129     3.0   945294508   82340  1103.0        8384  1103   \n",
       "\n",
       "     imdb_id  popularity  ...                  genres  \\\n",
       "0  tt0082340    1.003963  ...  Science Fiction|Action   \n",
       "1  tt0082340    1.003963  ...  Science Fiction|Action   \n",
       "2  tt0082340    1.003963  ...  Science Fiction|Action   \n",
       "3  tt0082340    1.003963  ...  Science Fiction|Action   \n",
       "4  tt0082340    1.003963  ...  Science Fiction|Action   \n",
       "\n",
       "                                production_companies release_date vote_count  \\\n",
       "0  AVCO Embassy Pictures|Goldcrest Films Internat...   1981-05-22        336   \n",
       "1  AVCO Embassy Pictures|Goldcrest Films Internat...   1981-05-22        336   \n",
       "2  AVCO Embassy Pictures|Goldcrest Films Internat...   1981-05-22        336   \n",
       "3  AVCO Embassy Pictures|Goldcrest Films Internat...   1981-05-22        336   \n",
       "4  AVCO Embassy Pictures|Goldcrest Films Internat...   1981-05-22        336   \n",
       "\n",
       "  vote_average release_year    budget_adj   revenue_adj      profit  \\\n",
       "0          6.5         1981  1.438914e+07  1.199095e+08  44000000.0   \n",
       "1          6.5         1981  1.438914e+07  1.199095e+08  44000000.0   \n",
       "2          6.5         1981  1.438914e+07  1.199095e+08  44000000.0   \n",
       "3          6.5         1981  1.438914e+07  1.199095e+08  44000000.0   \n",
       "4          6.5         1981  1.438914e+07  1.199095e+08  44000000.0   \n",
       "\n",
       "   popularity_level  \n",
       "0            Medium  \n",
       "1            Medium  \n",
       "2            Medium  \n",
       "3            Medium  \n",
       "4            Medium  \n",
       "\n",
       "[5 rows x 30 columns]"
      ]
     },
     "execution_count": 3,
     "metadata": {},
     "output_type": "execute_result"
    }
   ],
   "source": [
    "merged_df.head()"
   ]
  },
  {
   "cell_type": "code",
   "execution_count": 4,
   "id": "20749855",
   "metadata": {
    "colab": {
     "base_uri": "https://localhost:8080/"
    },
    "id": "20749855",
    "outputId": "8ff432cb-383d-45df-bac0-616b0f7f0613"
   },
   "outputs": [
    {
     "data": {
      "text/plain": [
       "Index(['Unnamed: 0', 'id', 'imdb_id', 'popularity', 'budget', 'revenue',\n",
       "       'original_title', 'cast', 'homepage', 'director', 'tagline', 'keywords',\n",
       "       'overview', 'runtime', 'genres', 'production_companies', 'release_date',\n",
       "       'vote_count', 'vote_average', 'release_year', 'budget_adj',\n",
       "       'revenue_adj', 'profit', 'popularity_level'],\n",
       "      dtype='object')"
      ]
     },
     "execution_count": 4,
     "metadata": {},
     "output_type": "execute_result"
    }
   ],
   "source": [
    "df.columns"
   ]
  },
  {
   "cell_type": "code",
   "execution_count": 5,
   "id": "ea9f90db",
   "metadata": {
    "colab": {
     "base_uri": "https://localhost:8080/"
    },
    "id": "ea9f90db",
    "outputId": "d8f1b39a-5bfb-4185-ba3c-dabe30aa5d58"
   },
   "outputs": [
    {
     "name": "stdout",
     "output_type": "stream",
     "text": [
      "<class 'pandas.core.frame.DataFrame'>\n",
      "RangeIndex: 1287 entries, 0 to 1286\n",
      "Data columns (total 24 columns):\n",
      " #   Column                Non-Null Count  Dtype  \n",
      "---  ------                --------------  -----  \n",
      " 0   Unnamed: 0            1287 non-null   int64  \n",
      " 1   id                    1287 non-null   int64  \n",
      " 2   imdb_id               1287 non-null   object \n",
      " 3   popularity            1287 non-null   float64\n",
      " 4   budget                1287 non-null   float64\n",
      " 5   revenue               1287 non-null   float64\n",
      " 6   original_title        1287 non-null   object \n",
      " 7   cast                  1287 non-null   object \n",
      " 8   homepage              1287 non-null   object \n",
      " 9   director              1287 non-null   object \n",
      " 10  tagline               1287 non-null   object \n",
      " 11  keywords              1287 non-null   object \n",
      " 12  overview              1287 non-null   object \n",
      " 13  runtime               1287 non-null   int64  \n",
      " 14  genres                1287 non-null   object \n",
      " 15  production_companies  1287 non-null   object \n",
      " 16  release_date          1287 non-null   object \n",
      " 17  vote_count            1287 non-null   int64  \n",
      " 18  vote_average          1287 non-null   float64\n",
      " 19  release_year          1287 non-null   int64  \n",
      " 20  budget_adj            1287 non-null   float64\n",
      " 21  revenue_adj           1287 non-null   float64\n",
      " 22  profit                1287 non-null   float64\n",
      " 23  popularity_level      1286 non-null   object \n",
      "dtypes: float64(7), int64(5), object(12)\n",
      "memory usage: 241.4+ KB\n"
     ]
    }
   ],
   "source": [
    "#display info\n",
    "df.info()"
   ]
  },
  {
   "cell_type": "code",
   "execution_count": 7,
   "id": "7ede7b6c",
   "metadata": {
    "colab": {
     "base_uri": "https://localhost:8080/",
     "height": 320
    },
    "id": "7ede7b6c",
    "outputId": "a2438dba-1c3f-4dc2-ce77-7f0d24dbaf35"
   },
   "outputs": [
    {
     "data": {
      "text/html": [
       "<div>\n",
       "<style scoped>\n",
       "    .dataframe tbody tr th:only-of-type {\n",
       "        vertical-align: middle;\n",
       "    }\n",
       "\n",
       "    .dataframe tbody tr th {\n",
       "        vertical-align: top;\n",
       "    }\n",
       "\n",
       "    .dataframe thead th {\n",
       "        text-align: right;\n",
       "    }\n",
       "</style>\n",
       "<table border=\"1\" class=\"dataframe\">\n",
       "  <thead>\n",
       "    <tr style=\"text-align: right;\">\n",
       "      <th></th>\n",
       "      <th>Unnamed: 0</th>\n",
       "      <th>id</th>\n",
       "      <th>popularity</th>\n",
       "      <th>budget</th>\n",
       "      <th>revenue</th>\n",
       "      <th>runtime</th>\n",
       "      <th>vote_count</th>\n",
       "      <th>vote_average</th>\n",
       "      <th>release_year</th>\n",
       "      <th>budget_adj</th>\n",
       "      <th>revenue_adj</th>\n",
       "      <th>profit</th>\n",
       "    </tr>\n",
       "  </thead>\n",
       "  <tbody>\n",
       "    <tr>\n",
       "      <th>count</th>\n",
       "      <td>1287.000000</td>\n",
       "      <td>1287.000000</td>\n",
       "      <td>1287.000000</td>\n",
       "      <td>1.287000e+03</td>\n",
       "      <td>1.287000e+03</td>\n",
       "      <td>1287.000000</td>\n",
       "      <td>1287.000000</td>\n",
       "      <td>1287.000000</td>\n",
       "      <td>1287.000000</td>\n",
       "      <td>1.287000e+03</td>\n",
       "      <td>1.287000e+03</td>\n",
       "      <td>1.287000e+03</td>\n",
       "    </tr>\n",
       "    <tr>\n",
       "      <th>mean</th>\n",
       "      <td>4125.843046</td>\n",
       "      <td>52557.491064</td>\n",
       "      <td>1.786022</td>\n",
       "      <td>5.200349e+07</td>\n",
       "      <td>1.762444e+08</td>\n",
       "      <td>110.273504</td>\n",
       "      <td>947.266511</td>\n",
       "      <td>6.279487</td>\n",
       "      <td>2007.017094</td>\n",
       "      <td>5.462994e+07</td>\n",
       "      <td>1.991775e+08</td>\n",
       "      <td>1.242409e+08</td>\n",
       "    </tr>\n",
       "    <tr>\n",
       "      <th>std</th>\n",
       "      <td>2671.936574</td>\n",
       "      <td>74450.077163</td>\n",
       "      <td>2.172137</td>\n",
       "      <td>5.514540e+07</td>\n",
       "      <td>2.538156e+08</td>\n",
       "      <td>18.811369</td>\n",
       "      <td>1255.476215</td>\n",
       "      <td>0.795955</td>\n",
       "      <td>8.060503</td>\n",
       "      <td>5.525463e+07</td>\n",
       "      <td>2.968515e+08</td>\n",
       "      <td>2.183462e+08</td>\n",
       "    </tr>\n",
       "    <tr>\n",
       "      <th>min</th>\n",
       "      <td>0.000000</td>\n",
       "      <td>11.000000</td>\n",
       "      <td>0.010335</td>\n",
       "      <td>1.000000e+00</td>\n",
       "      <td>4.300000e+01</td>\n",
       "      <td>63.000000</td>\n",
       "      <td>10.000000</td>\n",
       "      <td>2.200000</td>\n",
       "      <td>1961.000000</td>\n",
       "      <td>9.693980e-01</td>\n",
       "      <td>4.300000e+01</td>\n",
       "      <td>-4.139124e+08</td>\n",
       "    </tr>\n",
       "    <tr>\n",
       "      <th>25%</th>\n",
       "      <td>1972.000000</td>\n",
       "      <td>5851.500000</td>\n",
       "      <td>0.664783</td>\n",
       "      <td>1.400000e+07</td>\n",
       "      <td>2.565097e+07</td>\n",
       "      <td>97.000000</td>\n",
       "      <td>179.000000</td>\n",
       "      <td>5.800000</td>\n",
       "      <td>2005.000000</td>\n",
       "      <td>1.519180e+07</td>\n",
       "      <td>2.764890e+07</td>\n",
       "      <td>3.142641e+06</td>\n",
       "    </tr>\n",
       "    <tr>\n",
       "      <th>50%</th>\n",
       "      <td>3523.000000</td>\n",
       "      <td>20178.000000</td>\n",
       "      <td>1.152354</td>\n",
       "      <td>3.200000e+07</td>\n",
       "      <td>8.208716e+07</td>\n",
       "      <td>107.000000</td>\n",
       "      <td>439.000000</td>\n",
       "      <td>6.300000</td>\n",
       "      <td>2009.000000</td>\n",
       "      <td>3.556927e+07</td>\n",
       "      <td>8.674770e+07</td>\n",
       "      <td>4.524300e+07</td>\n",
       "    </tr>\n",
       "    <tr>\n",
       "      <th>75%</th>\n",
       "      <td>6554.500000</td>\n",
       "      <td>62209.500000</td>\n",
       "      <td>2.125342</td>\n",
       "      <td>7.000000e+07</td>\n",
       "      <td>2.140694e+08</td>\n",
       "      <td>121.000000</td>\n",
       "      <td>1173.000000</td>\n",
       "      <td>6.800000</td>\n",
       "      <td>2011.000000</td>\n",
       "      <td>7.630125e+07</td>\n",
       "      <td>2.351178e+08</td>\n",
       "      <td>1.470070e+08</td>\n",
       "    </tr>\n",
       "    <tr>\n",
       "      <th>max</th>\n",
       "      <td>10760.000000</td>\n",
       "      <td>333348.000000</td>\n",
       "      <td>32.985763</td>\n",
       "      <td>4.250000e+08</td>\n",
       "      <td>2.781506e+09</td>\n",
       "      <td>201.000000</td>\n",
       "      <td>9767.000000</td>\n",
       "      <td>8.300000</td>\n",
       "      <td>2015.000000</td>\n",
       "      <td>4.250000e+08</td>\n",
       "      <td>2.827124e+09</td>\n",
       "      <td>2.544506e+09</td>\n",
       "    </tr>\n",
       "  </tbody>\n",
       "</table>\n",
       "</div>"
      ],
      "text/plain": [
       "         Unnamed: 0             id   popularity        budget       revenue  \\\n",
       "count   1287.000000    1287.000000  1287.000000  1.287000e+03  1.287000e+03   \n",
       "mean    4125.843046   52557.491064     1.786022  5.200349e+07  1.762444e+08   \n",
       "std     2671.936574   74450.077163     2.172137  5.514540e+07  2.538156e+08   \n",
       "min        0.000000      11.000000     0.010335  1.000000e+00  4.300000e+01   \n",
       "25%     1972.000000    5851.500000     0.664783  1.400000e+07  2.565097e+07   \n",
       "50%     3523.000000   20178.000000     1.152354  3.200000e+07  8.208716e+07   \n",
       "75%     6554.500000   62209.500000     2.125342  7.000000e+07  2.140694e+08   \n",
       "max    10760.000000  333348.000000    32.985763  4.250000e+08  2.781506e+09   \n",
       "\n",
       "           runtime   vote_count  vote_average  release_year    budget_adj  \\\n",
       "count  1287.000000  1287.000000   1287.000000   1287.000000  1.287000e+03   \n",
       "mean    110.273504   947.266511      6.279487   2007.017094  5.462994e+07   \n",
       "std      18.811369  1255.476215      0.795955      8.060503  5.525463e+07   \n",
       "min      63.000000    10.000000      2.200000   1961.000000  9.693980e-01   \n",
       "25%      97.000000   179.000000      5.800000   2005.000000  1.519180e+07   \n",
       "50%     107.000000   439.000000      6.300000   2009.000000  3.556927e+07   \n",
       "75%     121.000000  1173.000000      6.800000   2011.000000  7.630125e+07   \n",
       "max     201.000000  9767.000000      8.300000   2015.000000  4.250000e+08   \n",
       "\n",
       "        revenue_adj        profit  \n",
       "count  1.287000e+03  1.287000e+03  \n",
       "mean   1.991775e+08  1.242409e+08  \n",
       "std    2.968515e+08  2.183462e+08  \n",
       "min    4.300000e+01 -4.139124e+08  \n",
       "25%    2.764890e+07  3.142641e+06  \n",
       "50%    8.674770e+07  4.524300e+07  \n",
       "75%    2.351178e+08  1.470070e+08  \n",
       "max    2.827124e+09  2.544506e+09  "
      ]
     },
     "execution_count": 7,
     "metadata": {},
     "output_type": "execute_result"
    }
   ],
   "source": [
    "#summary of numerical column\n",
    "df.describe()"
   ]
  },
  {
   "cell_type": "code",
   "execution_count": 8,
   "id": "b4af0d8a",
   "metadata": {
    "colab": {
     "base_uri": "https://localhost:8080/"
    },
    "id": "b4af0d8a",
    "outputId": "0d9c5bae-4e0a-493a-c32d-2480124e8bac"
   },
   "outputs": [
    {
     "data": {
      "text/plain": [
       "Unnamed: 0              0\n",
       "id                      0\n",
       "imdb_id                 0\n",
       "popularity              0\n",
       "budget                  0\n",
       "revenue                 0\n",
       "original_title          0\n",
       "cast                    0\n",
       "homepage                0\n",
       "director                0\n",
       "tagline                 0\n",
       "keywords                0\n",
       "overview                0\n",
       "runtime                 0\n",
       "genres                  0\n",
       "production_companies    0\n",
       "release_date            0\n",
       "vote_count              0\n",
       "vote_average            0\n",
       "release_year            0\n",
       "budget_adj              0\n",
       "revenue_adj             0\n",
       "profit                  0\n",
       "popularity_level        1\n",
       "dtype: int64"
      ]
     },
     "execution_count": 8,
     "metadata": {},
     "output_type": "execute_result"
    }
   ],
   "source": [
    "#check missing value\n",
    "df.isnull().sum()"
   ]
  },
  {
   "cell_type": "code",
   "execution_count": 9,
   "id": "0a6a305e",
   "metadata": {
    "colab": {
     "base_uri": "https://localhost:8080/"
    },
    "id": "0a6a305e",
    "outputId": "814693ec-4048-4373-fc5a-662837e0a8ae"
   },
   "outputs": [
    {
     "data": {
      "text/plain": [
       "Index(['Unnamed: 0', 'id', 'imdb_id', 'popularity', 'budget', 'revenue',\n",
       "       'original_title', 'cast', 'homepage', 'director', 'tagline', 'keywords',\n",
       "       'overview', 'runtime', 'genres', 'production_companies', 'release_date',\n",
       "       'vote_count', 'vote_average', 'release_year', 'budget_adj',\n",
       "       'revenue_adj', 'profit', 'popularity_level'],\n",
       "      dtype='object')"
      ]
     },
     "execution_count": 9,
     "metadata": {},
     "output_type": "execute_result"
    }
   ],
   "source": [
    "df.columns"
   ]
  },
  {
   "cell_type": "code",
   "execution_count": 10,
   "id": "fd2f306f",
   "metadata": {},
   "outputs": [],
   "source": [
    "def format_names(x):\n",
    "    # Check if the input is a string and contains '|'\n",
    "    if isinstance(x, str) and '|' in x:\n",
    "        # Split the string by '|', strip whitespace, and return as a list\n",
    "        return [name.strip() for name in x.split('|')]\n",
    "    else:\n",
    "        # If input is not a string or doesn't contain '|', return an empty list\n",
    "        return []\n",
    "\n",
    "# Specify columns to process\n",
    "features = ['cast', 'keywords', 'genres']\n",
    "\n",
    "# Apply the format_names function to each specified feature column\n",
    "for feature in features:\n",
    "    df[feature] = df[feature].apply(format_names)"
   ]
  },
  {
   "cell_type": "code",
   "execution_count": 11,
   "id": "8425dd6b",
   "metadata": {},
   "outputs": [],
   "source": [
    "def format_director(x):\n",
    "    # Check if the input is a non-empty string\n",
    "    if isinstance(x, str) and x.strip():  # Ensure the string is not empty after stripping whitespace\n",
    "        return [x.strip()]  # Return a list with the stripped director name\n",
    "    else:\n",
    "        return []  # Return an empty list for invalid or empty input\n",
    "\n",
    "# Apply the format_director function to the 'director' column\n",
    "df['director'] = df['director'].apply(format_director)"
   ]
  },
  {
   "cell_type": "code",
   "execution_count": 12,
   "id": "ba761d24",
   "metadata": {},
   "outputs": [],
   "source": [
    "# Function to convert all strings to lower case and strip names of spaces\n",
    "def clean_data(x):\n",
    "    if isinstance(x, list):\n",
    "        return [str.lower(i.replace(\" \", \"\")) for i in x]\n",
    "    else:\n",
    "        #Check if director exists. If not, return empty string\n",
    "        if isinstance(x, str):\n",
    "            return str.lower(x.replace(\" \", \"\"))\n",
    "        else:\n",
    "            return ''\n"
   ]
  },
  {
   "cell_type": "code",
   "execution_count": 13,
   "id": "8b0bc307",
   "metadata": {},
   "outputs": [],
   "source": [
    "# Apply clean_data function to your features.\n",
    "features = ['cast', 'keywords', 'director', 'genres']\n",
    "\n",
    "for feature in features:\n",
    "    df[feature] = df[feature].apply(clean_data)"
   ]
  },
  {
   "cell_type": "code",
   "execution_count": 14,
   "id": "d0ac60ad",
   "metadata": {},
   "outputs": [],
   "source": [
    "def create_soup(row):\n",
    "    # Join keywords, cast, and genres into a single string\n",
    "    soup_parts = []\n",
    "    \n",
    "    # Append keywords (if available)\n",
    "    if isinstance(row['keywords'], list):\n",
    "        soup_parts.extend(row['keywords'])\n",
    "    \n",
    "    # Append cast (if available)\n",
    "    if isinstance(row['cast'], list):\n",
    "        soup_parts.extend(row['cast'])\n",
    "    \n",
    "    # Append director (if available)\n",
    "    if isinstance(row['director'], str):\n",
    "        soup_parts.append(row['director'])\n",
    "    \n",
    "    # Append genres (if available)\n",
    "    if isinstance(row['genres'], list):\n",
    "        soup_parts.extend(row['genres'])\n",
    "    \n",
    "    # Join all soup parts into a single string\n",
    "    return ' '.join(soup_parts)\n",
    "\n",
    "# Apply the create_soup function to each row of the DataFrame along axis=1\n",
    "df['soup'] = df.apply(create_soup, axis=1)"
   ]
  },
  {
   "cell_type": "markdown",
   "id": "yWe6kFf3h2MS",
   "metadata": {
    "id": "yWe6kFf3h2MS"
   },
   "source": [
    "## Data Analysis"
   ]
  },
  {
   "cell_type": "markdown",
   "id": "TcOgX-jLYA3_",
   "metadata": {
    "id": "TcOgX-jLYA3_"
   },
   "source": [
    "### Number Of Votes"
   ]
  },
  {
   "cell_type": "code",
   "execution_count": 15,
   "id": "sFi5eo_1YEqd",
   "metadata": {
    "colab": {
     "base_uri": "https://localhost:8080/",
     "height": 449
    },
    "id": "sFi5eo_1YEqd",
    "outputId": "9256b7e0-d3ee-446d-88c2-9e80f3857905"
   },
   "outputs": [
    {
     "data": {
      "image/png": "[encoded data removed]",
      "text/plain": [
       "<Figure size 640x480 with 1 Axes>"
      ]
     },
     "metadata": {},
     "output_type": "display_data"
    }
   ],
   "source": [
    "# Assuming you have a DataFrame named movies with a column 'vote_count'\n",
    "\n",
    "# Create a histogram\n",
    "plt.hist(df['vote_count'], bins=range(0, max(df['vote_count']) + 50, 50), color='blue')\n",
    "\n",
    "# Customize the plot\n",
    "plt.xlabel('Number of votes')\n",
    "plt.ylabel('Number of movies')\n",
    "plt.xticks(range(0, 5001, 500), labels=[f'{x:,}' for x in range(0, 5001, 500)])  # Format x-axis labels with commas\n",
    "plt.xlim(0, 5000)  # Set the x-axis limits\n",
    "plt.grid(True)\n",
    "\n",
    "# Show the plot\n",
    "plt.show()\n"
   ]
  },
  {
   "cell_type": "markdown",
   "id": "t-lhF-7VY4FM",
   "metadata": {
    "id": "t-lhF-7VY4FM"
   },
   "source": [
    "### Top 20 Movies with Most Votes"
   ]
  },
  {
   "cell_type": "code",
   "execution_count": 16,
   "id": "wCJN09IRZAx2",
   "metadata": {
    "colab": {
     "base_uri": "https://localhost:8080/",
     "height": 533
    },
    "id": "wCJN09IRZAx2",
    "outputId": "ca474ded-2e74-48d5-c7d0-dcb46fcb9148"
   },
   "outputs": [
    {
     "data": {
      "image/png": "[encoded data removed]",
      "text/plain": [
       "<Figure size 1000x800 with 1 Axes>"
      ]
     },
     "metadata": {},
     "output_type": "display_data"
    }
   ],
   "source": [
    "\n",
    "# Sort the deduplicated DataFrame by 'vote_count' in descending order and select the top 20 movies\n",
    "top_movies = df.nlargest(20, 'vote_count')\n",
    "\n",
    "# Create a bar plot\n",
    "plt.figure(figsize=(10, 8))\n",
    "plt.barh(top_movies['original_title'], top_movies['vote_count'], color='skyblue')\n",
    "\n",
    "# Customize the plot\n",
    "plt.xlabel('Number of Votes')\n",
    "plt.ylabel('Movie Title')\n",
    "plt.title('Top 20 Movies with Most Votes')\n",
    "plt.gca().invert_yaxis()  # Invert y-axis to display the movie with the most votes at the top\n",
    "\n",
    "# Show the plot\n",
    "plt.show()\n"
   ]
  },
  {
   "cell_type": "markdown",
   "id": "xyQpcNQcbJyW",
   "metadata": {
    "id": "xyQpcNQcbJyW"
   },
   "source": [
    "### Top 20 Movies With Highest Vote Average (At least 250 votes)"
   ]
  },
  {
   "cell_type": "code",
   "execution_count": 17,
   "id": "9aQRnAnubQ1U",
   "metadata": {
    "colab": {
     "base_uri": "https://localhost:8080/",
     "height": 546
    },
    "id": "9aQRnAnubQ1U",
    "outputId": "69619488-7d43-4177-bb1f-16c22423216f"
   },
   "outputs": [
    {
     "data": {
      "image/png": "[encoded data removed]",
      "text/plain": [
       "<Figure size 1000x800 with 1 Axes>"
      ]
     },
     "metadata": {},
     "output_type": "display_data"
    }
   ],
   "source": [
    "\n",
    "# Filter movies with at least 250 votes from the deduplicated DataFrame\n",
    "popular_movies = df[df['vote_count'] >= 250]\n",
    "\n",
    "# Sort the filtered DataFrame by 'vote_average' in descending order and select the top 20 movies\n",
    "top_avg_movies = popular_movies.nlargest(20, 'vote_average')\n",
    "\n",
    "# Create a bar plot\n",
    "plt.figure(figsize=(10, 8))\n",
    "plt.barh(top_avg_movies['original_title'], top_avg_movies['vote_average'], color='lightgreen')\n",
    "\n",
    "# Customize the plot\n",
    "plt.xlabel('Vote Average')\n",
    "plt.ylabel('Movie Title')\n",
    "plt.title('Top 20 Movies with Highest Vote Average (At Least 250 Votes)')\n",
    "plt.gca().invert_yaxis()  # Invert y-axis to display the movie with the highest vote average at the top\n",
    "\n",
    "# Show the plot\n",
    "plt.show()\n"
   ]
  },
  {
   "cell_type": "markdown",
   "id": "nzHtXrAKTITf",
   "metadata": {
    "id": "nzHtXrAKTITf"
   },
   "source": [
    "#### Overview"
   ]
  },
  {
   "cell_type": "code",
   "execution_count": 29,
   "id": "YjezRcmGdBIt",
   "metadata": {
    "id": "YjezRcmGdBIt"
   },
   "outputs": [],
   "source": [
    "#Construct a reverse map of indices and movie titles\n",
    "indices = pd.Series(df.index, index=df['original_title']).drop_duplicates()\n"
   ]
  },
  {
   "cell_type": "code",
   "execution_count": 30,
   "id": "ylmLe24EjpGq",
   "metadata": {
    "id": "ylmLe24EjpGq"
   },
   "outputs": [
    {
     "data": {
      "text/plain": [
       "(1287, 10470)"
      ]
     },
     "execution_count": 30,
     "metadata": {},
     "output_type": "execute_result"
    }
   ],
   "source": [
    "from sklearn.feature_extraction.text import TfidfVectorizer\n",
    "\n",
    "#Define a TF-IDF Vectorizer Object. Remove all english stop words such as 'the', 'a'\n",
    "tfidf = TfidfVectorizer(stop_words='english')\n",
    "\n",
    "#Replace NaN with an empty string\n",
    "df['overview'] = df['overview'].fillna('')\n",
    "\n",
    "#Construct the required TF-IDF matrix by fitting and transforming the data\n",
    "tfidf_matrix = tfidf.fit_transform(df['overview'])\n",
    "\n",
    "#Output the shape of tfidf_matrix\n",
    "tfidf_matrix.shape"
   ]
  },
  {
   "cell_type": "code",
   "execution_count": 31,
   "id": "AjvGzlN5cGSp",
   "metadata": {
    "id": "AjvGzlN5cGSp"
   },
   "outputs": [
    {
     "data": {
      "text/plain": [
       "(1287, 1287)"
      ]
     },
     "execution_count": 31,
     "metadata": {},
     "output_type": "execute_result"
    }
   ],
   "source": [
    "# Import linear_kernel\n",
    "from sklearn.metrics.pairwise import linear_kernel\n",
    "\n",
    "# Compute the cosine similarity matrix\n",
    "cosine_sim = linear_kernel(tfidf_matrix, tfidf_matrix)\n",
    "cosine_sim.shape\n"
   ]
  },
  {
   "cell_type": "code",
   "execution_count": 32,
   "id": "HOkMXZjgcSqr",
   "metadata": {
    "id": "HOkMXZjgcSqr"
   },
   "outputs": [
    {
     "data": {
      "text/plain": [
       "array([0.00675371, 1.        , 0.        , ..., 0.01343777, 0.03244566,\n",
       "       0.        ])"
      ]
     },
     "execution_count": 32,
     "metadata": {},
     "output_type": "execute_result"
    }
   ],
   "source": [
    "cosine_sim[1]\n"
   ]
  },
  {
   "cell_type": "code",
   "execution_count": 33,
   "id": "tKDzrFZpcfR4",
   "metadata": {
    "id": "tKDzrFZpcfR4"
   },
   "outputs": [],
   "source": [
    "def get_recommendations(title, cosine_sim=cosine_sim):\n",
    "    # Get the index of the item that matches the title\n",
    "    idx = indices[title]\n",
    "\n",
    "    # Get the pairwise similarity scores of all items with that item\n",
    "    sim_scores = cosine_sim[idx]\n",
    "\n",
    "    # Sort the movies based on the similarity scores\n",
    "    sim_scores_sorted_indices = np.argsort(sim_scores)[::-1]\n",
    "\n",
    "    # Get the scores of the 10 most similar movies\n",
    "    sim_scores_top_indices = sim_scores_sorted_indices[1:11]\n",
    "\n",
    "    # Return the top 10 most similar movies\n",
    "    return df['original_title'].iloc[sim_scores_top_indices].tolist()\n"
   ]
  },
  {
   "cell_type": "code",
   "execution_count": 34,
   "id": "ngdHlRGNcnCr",
   "metadata": {
    "id": "ngdHlRGNcnCr"
   },
   "outputs": [
    {
     "name": "stdout",
     "output_type": "stream",
     "text": [
      "['The Dark Knight', 'Batman Begins', 'Secret in Their Eyes', 'Max Payne', 'Beastly', 'American Sniper', 'Daredevil', 'Eraser', 'Justice League: The New Frontier', 'Case 39']\n"
     ]
    }
   ],
   "source": [
    "pred = get_recommendations('The Dark Knight Rises')\n",
    "print(pred)\n"
   ]
  },
  {
   "cell_type": "code",
   "execution_count": 113,
   "id": "699c6363",
   "metadata": {},
   "outputs": [],
   "source": [
    "def calculate_cosine_sim():\n",
    "    # Calculate the linear kernel using the TF-IDF matrix\n",
    "    count = CountVectorizer(stop_words='english')\n",
    "    count_matrix = count.fit_transform(df['soup'])\n",
    "    cosine_sim = cosine_similarity(count_matrix, count_matrix)\n",
    "    return cosine_sim\n",
    "\n",
    "# Calculate and cache the linear kernel\n",
    "cosine_sim = calculate_cosine_sim()\n",
    "\n",
    "titles = df[['original_title']]\n",
    "indices=pd.Series(data=list(titles.index), index= titles['original_title'] )"
   ]
  },
  {
   "cell_type": "code",
   "execution_count": 117,
   "id": "bee0d6d4",
   "metadata": {},
   "outputs": [],
   "source": [
    "def content_model(title):\n",
    "    # Get the index of the movie that matches the title\n",
    "    index = indices[title]\n",
    "    \n",
    "    # Get the pairwsie similarity scores of all movies with the selected movie\n",
    "    sim_scores = list(enumerate(cosine_sim[index]))\n",
    "    \n",
    "    # Sort the movies based on the similarity scores in descending order\n",
    "    sim_scores = sorted(sim_scores, key=lambda x: x[1], reverse=True)\n",
    "    \n",
    "    # Get the scores of the top n most similar movies \n",
    "    sim_scores = sim_scores[1:10+1]\n",
    "\n",
    "    # Get the movie indices\n",
    "    movie_indices = [i[0] for i in sim_scores]\n",
    "\n",
    "    recommendations = []\n",
    "    for (year, title) in (df.iloc[movie_indices][['release_year', 'original_title']].values):\n",
    "        recommendations.append((title, year))\n",
    "    \n",
    "    return recommendations\n",
    "\n",
    "\n"
   ]
  },
  {
   "cell_type": "code",
   "execution_count": 119,
   "id": "422af3b7",
   "metadata": {},
   "outputs": [
    {
     "data": {
      "text/plain": [
       "[('The Dark Knight', 2008),\n",
       " ('Batman Begins', 2005),\n",
       " ('A Most Violent Year', 2014),\n",
       " ('Harsh Times', 2005),\n",
       " ('Vantage Point', 2008),\n",
       " ('Hitman', 2007),\n",
       " ('Takers', 2010),\n",
       " ('Blackhat', 2015),\n",
       " ('RockNRolla', 2008),\n",
       " ('Gangster Squad', 2013)]"
      ]
     },
     "execution_count": 119,
     "metadata": {},
     "output_type": "execute_result"
    }
   ],
   "source": [
    "content_model('The Dark Knight Rises')"
   ]
  },
  {
   "cell_type": "markdown",
   "id": "014c0fef",
   "metadata": {},
   "source": [
    "## Collab"
   ]
  },
  {
   "cell_type": "code",
   "execution_count": 39,
   "id": "7f62aee9",
   "metadata": {},
   "outputs": [],
   "source": [
    "link = pd.read_csv('links_small.csv')\n",
    "rating = pd.read_csv('ratings_small.csv')\n",
    "\n",
    "merged_df = pd.merge(rating, link, on='movieId', how='inner')\n",
    "merged_df = pd.merge(merged_df, df,left_on='tmdbId', right_on='id', how='inner')"
   ]
  },
  {
   "cell_type": "code",
   "execution_count": 40,
   "id": "d45bdef5",
   "metadata": {},
   "outputs": [
    {
     "data": {
      "text/html": [
       "<div>\n",
       "<style scoped>\n",
       "    .dataframe tbody tr th:only-of-type {\n",
       "        vertical-align: middle;\n",
       "    }\n",
       "\n",
       "    .dataframe tbody tr th {\n",
       "        vertical-align: top;\n",
       "    }\n",
       "\n",
       "    .dataframe thead th {\n",
       "        text-align: right;\n",
       "    }\n",
       "</style>\n",
       "<table border=\"1\" class=\"dataframe\">\n",
       "  <thead>\n",
       "    <tr style=\"text-align: right;\">\n",
       "      <th></th>\n",
       "      <th>userId</th>\n",
       "      <th>movieId</th>\n",
       "      <th>rating</th>\n",
       "      <th>timestamp</th>\n",
       "      <th>imdbId</th>\n",
       "      <th>tmdbId</th>\n",
       "      <th>Unnamed: 0</th>\n",
       "      <th>id</th>\n",
       "      <th>imdb_id</th>\n",
       "      <th>popularity</th>\n",
       "      <th>...</th>\n",
       "      <th>production_companies</th>\n",
       "      <th>release_date</th>\n",
       "      <th>vote_count</th>\n",
       "      <th>vote_average</th>\n",
       "      <th>release_year</th>\n",
       "      <th>budget_adj</th>\n",
       "      <th>revenue_adj</th>\n",
       "      <th>profit</th>\n",
       "      <th>popularity_level</th>\n",
       "      <th>soup</th>\n",
       "    </tr>\n",
       "  </thead>\n",
       "  <tbody>\n",
       "    <tr>\n",
       "      <th>0</th>\n",
       "      <td>1</td>\n",
       "      <td>1129</td>\n",
       "      <td>2.0</td>\n",
       "      <td>1260759185</td>\n",
       "      <td>82340</td>\n",
       "      <td>1103.0</td>\n",
       "      <td>8384</td>\n",
       "      <td>1103</td>\n",
       "      <td>tt0082340</td>\n",
       "      <td>1.003963</td>\n",
       "      <td>...</td>\n",
       "      <td>AVCO Embassy Pictures|Goldcrest Films Internat...</td>\n",
       "      <td>1981-05-22</td>\n",
       "      <td>336</td>\n",
       "      <td>6.5</td>\n",
       "      <td>1981</td>\n",
       "      <td>1.438914e+07</td>\n",
       "      <td>1.199095e+08</td>\n",
       "      <td>44000000.0</td>\n",
       "      <td>Medium</td>\n",
       "      <td>taxi streetgang u.s.president warveteran hosta...</td>\n",
       "    </tr>\n",
       "    <tr>\n",
       "      <th>1</th>\n",
       "      <td>7</td>\n",
       "      <td>1129</td>\n",
       "      <td>3.0</td>\n",
       "      <td>851869103</td>\n",
       "      <td>82340</td>\n",
       "      <td>1103.0</td>\n",
       "      <td>8384</td>\n",
       "      <td>1103</td>\n",
       "      <td>tt0082340</td>\n",
       "      <td>1.003963</td>\n",
       "      <td>...</td>\n",
       "      <td>AVCO Embassy Pictures|Goldcrest Films Internat...</td>\n",
       "      <td>1981-05-22</td>\n",
       "      <td>336</td>\n",
       "      <td>6.5</td>\n",
       "      <td>1981</td>\n",
       "      <td>1.438914e+07</td>\n",
       "      <td>1.199095e+08</td>\n",
       "      <td>44000000.0</td>\n",
       "      <td>Medium</td>\n",
       "      <td>taxi streetgang u.s.president warveteran hosta...</td>\n",
       "    </tr>\n",
       "    <tr>\n",
       "      <th>2</th>\n",
       "      <td>19</td>\n",
       "      <td>1129</td>\n",
       "      <td>3.0</td>\n",
       "      <td>855192347</td>\n",
       "      <td>82340</td>\n",
       "      <td>1103.0</td>\n",
       "      <td>8384</td>\n",
       "      <td>1103</td>\n",
       "      <td>tt0082340</td>\n",
       "      <td>1.003963</td>\n",
       "      <td>...</td>\n",
       "      <td>AVCO Embassy Pictures|Goldcrest Films Internat...</td>\n",
       "      <td>1981-05-22</td>\n",
       "      <td>336</td>\n",
       "      <td>6.5</td>\n",
       "      <td>1981</td>\n",
       "      <td>1.438914e+07</td>\n",
       "      <td>1.199095e+08</td>\n",
       "      <td>44000000.0</td>\n",
       "      <td>Medium</td>\n",
       "      <td>taxi streetgang u.s.president warveteran hosta...</td>\n",
       "    </tr>\n",
       "    <tr>\n",
       "      <th>3</th>\n",
       "      <td>21</td>\n",
       "      <td>1129</td>\n",
       "      <td>3.0</td>\n",
       "      <td>853848738</td>\n",
       "      <td>82340</td>\n",
       "      <td>1103.0</td>\n",
       "      <td>8384</td>\n",
       "      <td>1103</td>\n",
       "      <td>tt0082340</td>\n",
       "      <td>1.003963</td>\n",
       "      <td>...</td>\n",
       "      <td>AVCO Embassy Pictures|Goldcrest Films Internat...</td>\n",
       "      <td>1981-05-22</td>\n",
       "      <td>336</td>\n",
       "      <td>6.5</td>\n",
       "      <td>1981</td>\n",
       "      <td>1.438914e+07</td>\n",
       "      <td>1.199095e+08</td>\n",
       "      <td>44000000.0</td>\n",
       "      <td>Medium</td>\n",
       "      <td>taxi streetgang u.s.president warveteran hosta...</td>\n",
       "    </tr>\n",
       "    <tr>\n",
       "      <th>4</th>\n",
       "      <td>30</td>\n",
       "      <td>1129</td>\n",
       "      <td>3.0</td>\n",
       "      <td>945294508</td>\n",
       "      <td>82340</td>\n",
       "      <td>1103.0</td>\n",
       "      <td>8384</td>\n",
       "      <td>1103</td>\n",
       "      <td>tt0082340</td>\n",
       "      <td>1.003963</td>\n",
       "      <td>...</td>\n",
       "      <td>AVCO Embassy Pictures|Goldcrest Films Internat...</td>\n",
       "      <td>1981-05-22</td>\n",
       "      <td>336</td>\n",
       "      <td>6.5</td>\n",
       "      <td>1981</td>\n",
       "      <td>1.438914e+07</td>\n",
       "      <td>1.199095e+08</td>\n",
       "      <td>44000000.0</td>\n",
       "      <td>Medium</td>\n",
       "      <td>taxi streetgang u.s.president warveteran hosta...</td>\n",
       "    </tr>\n",
       "  </tbody>\n",
       "</table>\n",
       "<p>5 rows × 31 columns</p>\n",
       "</div>"
      ],
      "text/plain": [
       "   userId  movieId  rating   timestamp  imdbId  tmdbId  Unnamed: 0    id  \\\n",
       "0       1     1129     2.0  1260759185   82340  1103.0        8384  1103   \n",
       "1       7     1129     3.0   851869103   82340  1103.0        8384  1103   \n",
       "2      19     1129     3.0   855192347   82340  1103.0        8384  1103   \n",
       "3      21     1129     3.0   853848738   82340  1103.0        8384  1103   \n",
       "4      30     1129     3.0   945294508   82340  1103.0        8384  1103   \n",
       "\n",
       "     imdb_id  popularity  ...  \\\n",
       "0  tt0082340    1.003963  ...   \n",
       "1  tt0082340    1.003963  ...   \n",
       "2  tt0082340    1.003963  ...   \n",
       "3  tt0082340    1.003963  ...   \n",
       "4  tt0082340    1.003963  ...   \n",
       "\n",
       "                                production_companies  release_date vote_count  \\\n",
       "0  AVCO Embassy Pictures|Goldcrest Films Internat...    1981-05-22        336   \n",
       "1  AVCO Embassy Pictures|Goldcrest Films Internat...    1981-05-22        336   \n",
       "2  AVCO Embassy Pictures|Goldcrest Films Internat...    1981-05-22        336   \n",
       "3  AVCO Embassy Pictures|Goldcrest Films Internat...    1981-05-22        336   \n",
       "4  AVCO Embassy Pictures|Goldcrest Films Internat...    1981-05-22        336   \n",
       "\n",
       "  vote_average release_year    budget_adj   revenue_adj      profit  \\\n",
       "0          6.5         1981  1.438914e+07  1.199095e+08  44000000.0   \n",
       "1          6.5         1981  1.438914e+07  1.199095e+08  44000000.0   \n",
       "2          6.5         1981  1.438914e+07  1.199095e+08  44000000.0   \n",
       "3          6.5         1981  1.438914e+07  1.199095e+08  44000000.0   \n",
       "4          6.5         1981  1.438914e+07  1.199095e+08  44000000.0   \n",
       "\n",
       "  popularity_level                                               soup  \n",
       "0           Medium  taxi streetgang u.s.president warveteran hosta...  \n",
       "1           Medium  taxi streetgang u.s.president warveteran hosta...  \n",
       "2           Medium  taxi streetgang u.s.president warveteran hosta...  \n",
       "3           Medium  taxi streetgang u.s.president warveteran hosta...  \n",
       "4           Medium  taxi streetgang u.s.president warveteran hosta...  \n",
       "\n",
       "[5 rows x 31 columns]"
      ]
     },
     "execution_count": 40,
     "metadata": {},
     "output_type": "execute_result"
    }
   ],
   "source": [
    "merged_df.head()"
   ]
  },
  {
   "cell_type": "code",
   "execution_count": 42,
   "id": "c1ed3b52",
   "metadata": {},
   "outputs": [
    {
     "name": "stdout",
     "output_type": "stream",
     "text": [
      "<class 'pandas.core.frame.DataFrame'>\n",
      "Int64Index: 23888 entries, 0 to 23887\n",
      "Data columns (total 31 columns):\n",
      " #   Column                Non-Null Count  Dtype  \n",
      "---  ------                --------------  -----  \n",
      " 0   userId                23888 non-null  int64  \n",
      " 1   movieId               23888 non-null  int64  \n",
      " 2   rating                23888 non-null  float64\n",
      " 3   timestamp             23888 non-null  int64  \n",
      " 4   imdbId                23888 non-null  int64  \n",
      " 5   tmdbId                23888 non-null  float64\n",
      " 6   Unnamed: 0            23888 non-null  int64  \n",
      " 7   id                    23888 non-null  int64  \n",
      " 8   imdb_id               23888 non-null  object \n",
      " 9   popularity            23888 non-null  float64\n",
      " 10  budget                23888 non-null  float64\n",
      " 11  revenue               23888 non-null  float64\n",
      " 12  original_title        23888 non-null  object \n",
      " 13  cast                  23888 non-null  object \n",
      " 14  homepage              23888 non-null  object \n",
      " 15  director              23888 non-null  object \n",
      " 16  tagline               23888 non-null  object \n",
      " 17  keywords              23888 non-null  object \n",
      " 18  overview              23888 non-null  object \n",
      " 19  runtime               23888 non-null  int64  \n",
      " 20  genres                23888 non-null  object \n",
      " 21  production_companies  23888 non-null  object \n",
      " 22  release_date          23888 non-null  object \n",
      " 23  vote_count            23888 non-null  int64  \n",
      " 24  vote_average          23888 non-null  float64\n",
      " 25  release_year          23888 non-null  int64  \n",
      " 26  budget_adj            23888 non-null  float64\n",
      " 27  revenue_adj           23888 non-null  float64\n",
      " 28  profit                23888 non-null  float64\n",
      " 29  popularity_level      23888 non-null  object \n",
      " 30  soup                  23888 non-null  object \n",
      "dtypes: float64(9), int64(9), object(13)\n",
      "memory usage: 5.8+ MB\n"
     ]
    }
   ],
   "source": [
    "merged_df.info()"
   ]
  },
  {
   "cell_type": "code",
   "execution_count": 45,
   "id": "e0b524ad",
   "metadata": {},
   "outputs": [
    {
     "data": {
      "text/plain": [
       "userId                  0\n",
       "movieId                 0\n",
       "rating                  0\n",
       "timestamp               0\n",
       "imdbId                  0\n",
       "tmdbId                  0\n",
       "Unnamed: 0              0\n",
       "id                      0\n",
       "imdb_id                 0\n",
       "popularity              0\n",
       "budget                  0\n",
       "revenue                 0\n",
       "original_title          0\n",
       "cast                    0\n",
       "homepage                0\n",
       "director                0\n",
       "tagline                 0\n",
       "keywords                0\n",
       "overview                0\n",
       "runtime                 0\n",
       "genres                  0\n",
       "production_companies    0\n",
       "release_date            0\n",
       "vote_count              0\n",
       "vote_average            0\n",
       "release_year            0\n",
       "budget_adj              0\n",
       "revenue_adj             0\n",
       "profit                  0\n",
       "popularity_level        0\n",
       "soup                    0\n",
       "dtype: int64"
      ]
     },
     "execution_count": 45,
     "metadata": {},
     "output_type": "execute_result"
    }
   ],
   "source": [
    "merged_df.isnull().sum()"
   ]
  },
  {
   "cell_type": "code",
   "execution_count": 56,
   "id": "db41fbd3",
   "metadata": {},
   "outputs": [
    {
     "data": {
      "text/plain": [
       "Index(['userId', 'rating', 'timestamp', 'imdb_id', 'popularity', 'budget',\n",
       "       'revenue', 'original_title', 'cast', 'homepage', 'director', 'tagline',\n",
       "       'keywords', 'overview', 'runtime', 'genres', 'production_companies',\n",
       "       'release_date', 'vote_count', 'vote_average', 'release_year',\n",
       "       'budget_adj', 'revenue_adj', 'profit', 'popularity_level', 'soup'],\n",
       "      dtype='object')"
      ]
     },
     "execution_count": 56,
     "metadata": {},
     "output_type": "execute_result"
    }
   ],
   "source": [
    "merged_df.drop(columns=['movieId','imdbId','tmdbId','Unnamed: 0'],inplace=True)\n",
    "merged_df.rename(columns={'id': 'movieId'}, inplace=True)\n",
    "merged_df.columns"
   ]
  },
  {
   "cell_type": "code",
   "execution_count": 109,
   "id": "70052dae",
   "metadata": {},
   "outputs": [],
   "source": [
    "def collab_model(original_title):\n",
    "    \n",
    "\n",
    "    moviemat = merged_df.pivot_table(index='userId', columns='original_title', values='rating')\n",
    "    \n",
    "    movie_ratings = moviemat[original_title]\n",
    "    # Calculate correlation with other movies\n",
    "    similar_to_movie = moviemat.corrwith(movie_ratings)\n",
    "    corr_movie = pd.DataFrame(similar_to_movie, columns=['Correlation'])\n",
    "    corr_movie.dropna(inplace=True)\n",
    "    corr_movie = corr_movie.sort_values(by='Correlation', ascending=False)\n",
    "\n",
    "    corr_movie = corr_movie[1:10+1]\n",
    "\n",
    "    # Get the movie indices\n",
    "    movie_indices = corr_movie.index\n",
    "\n",
    "    recommendations = []\n",
    "    for movie_title in movie_indices:\n",
    "        year = merged_df.loc[merged_df['original_title'] == movie_title, 'release_year'].values[0]\n",
    "        recommendations.append((movie_title, year, director))\n",
    "\n",
    "    return recommendations\n"
   ]
  },
  {
   "cell_type": "code",
   "execution_count": 110,
   "id": "5d908514",
   "metadata": {
    "scrolled": true
   },
   "outputs": [
    {
     "name": "stderr",
     "output_type": "stream",
     "text": [
      "D:\\anaconda3\\Lib\\site-packages\\numpy\\lib\\function_base.py:2846: RuntimeWarning: Degrees of freedom <= 0 for slice\n",
      "  c = cov(x, y, rowvar, dtype=dtype)\n",
      "D:\\anaconda3\\Lib\\site-packages\\numpy\\lib\\function_base.py:2705: RuntimeWarning: divide by zero encountered in divide\n",
      "  c *= np.true_divide(1, fact)\n"
     ]
    },
    {
     "data": {
      "text/plain": [
       "[('Moonraker', 1979, ['lewisgilbert']),\n",
       " ('Angels & Demons', 2009, ['ronhoward']),\n",
       " ('Maze Runner: The Scorch Trials', 2015, ['wesball']),\n",
       " ('The Best Exotic Marigold Hotel', 2011, ['johnmadden']),\n",
       " (\"On Her Majesty's Secret Service\", 1969, ['peterr.hunt']),\n",
       " ('The Forbidden Kingdom', 2008, ['robminkoff']),\n",
       " ('Killers', 2010, ['robertluketic']),\n",
       " ('Jurassic World', 2015, ['colintrevorrow']),\n",
       " ('One for the Money', 2012, ['julieannerobinson']),\n",
       " ('The Informant!', 2009, ['stevensoderbergh'])]"
      ]
     },
     "execution_count": 110,
     "metadata": {},
     "output_type": "execute_result"
    }
   ],
   "source": [
    "collab_model('Jurassic World')"
   ]
  },
  {
   "cell_type": "code",
   "execution_count": null,
   "id": "a4642af6",
   "metadata": {},
   "outputs": [],
   "source": []
  }
 ],
 "metadata": {
  "colab": {
   "provenance": []
  },
  "kernelspec": {
   "display_name": "Python 3 (ipykernel)",
   "language": "python",
   "name": "python3"
  },
  "language_info": {
   "codemirror_mode": {
    "name": "ipython",
    "version": 3
   },
   "file_extension": ".py",
   "mimetype": "text/x-python",
   "name": "python",
   "nbconvert_exporter": "python",
   "pygments_lexer": "ipython3",
   "version": "3.11.4"
  }
 },
 "nbformat": 4,
 "nbformat_minor": 5
}
